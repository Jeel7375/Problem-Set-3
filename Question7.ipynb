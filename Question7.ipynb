{
 "cells": [
  {
   "cell_type": "code",
   "execution_count": 12,
   "id": "19294501",
   "metadata": {},
   "outputs": [
    {
     "data": {
      "text/plain": [
       "<matplotlib.legend.Legend at 0x1b1bf9632e0>"
      ]
     },
     "execution_count": 12,
     "metadata": {},
     "output_type": "execute_result"
    },
    {
     "data": {
      "image/png": "[encoded data removed]",
      "text/plain": [
       "<Figure size 432x288 with 1 Axes>"
      ]
     },
     "metadata": {
      "needs_background": "light"
     },
     "output_type": "display_data"
    }
   ],
   "source": [
    "import pandas as pd\n",
    "import matplotlib\n",
    "import matplotlib.pyplot as plt\n",
    "\n",
    "us_marriage_divorce_data = pd.read_csv('us-marriages-divorces-1867-2014.csv')\n",
    "us_marriage_divorce_data = us_marriage_divorce_data[\n",
    "    us_marriage_divorce_data['Year'].apply(lambda x: x in [1900, 1950, 2000])]\n",
    "\n",
    "years = us_marriage_divorce_data['Year'].values\n",
    "marriages_per_capita = us_marriage_divorce_data['Marriages_per_1000'].values\n",
    "divorces_per_capita = us_marriage_divorce_data['Divorces_per_1000'].values\n",
    "\n",
    "\n",
    "plt.bar(years, marriages_per_capita, label='Marriage Per Capita')\n",
    "plt.bar(years, divorces_per_capita, label='Divorce Per Capita')\n",
    "plt.legend(loc=\"upper left\")"
   ]
  },
  {
   "cell_type": "code",
   "execution_count": null,
   "id": "ae7800d3",
   "metadata": {},
   "outputs": [],
   "source": []
  }
 ],
 "metadata": {
  "kernelspec": {
   "display_name": "Python 3 (ipykernel)",
   "language": "python",
   "name": "python3"
  },
  "language_info": {
   "codemirror_mode": {
    "name": "ipython",
    "version": 3
   },
   "file_extension": ".py",
   "mimetype": "text/x-python",
   "name": "python",
   "nbconvert_exporter": "python",
   "pygments_lexer": "ipython3",
   "version": "3.9.12"
  }
 },
 "nbformat": 4,
 "nbformat_minor": 5
}
